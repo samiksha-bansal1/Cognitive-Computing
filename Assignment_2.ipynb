{
  "nbformat": 4,
  "nbformat_minor": 0,
  "metadata": {
    "colab": {
      "provenance": []
    },
    "kernelspec": {
      "name": "python3",
      "display_name": "Python 3"
    },
    "language_info": {
      "name": "python"
    }
  },
  "cells": [
    {
      "cell_type": "markdown",
      "source": [
        "**Assignment-2**"
      ],
      "metadata": {
        "id": "i9OJXtrcJ-wV"
      }
    },
    {
      "cell_type": "code",
      "execution_count": 1,
      "metadata": {
        "id": "UdEcnLnTcsqx",
        "colab": {
          "base_uri": "https://localhost:8080/"
        },
        "outputId": "f2bb322e-d9d7-45d8-a92b-6acd8522e40c"
      },
      "outputs": [
        {
          "output_type": "stream",
          "name": "stdout",
          "text": [
            "Initial list L= [10, 20, 30, 40, 50, 60, 70, 80]\n",
            "1. L= [10, 20, 30, 40, 50, 60, 70, 80, 200, 300]\n",
            "2. L= [20, 40, 50, 60, 70, 80, 200, 300]\n",
            "3. L= [20, 40, 50, 60, 70, 80, 200, 300]\n",
            "4. L= [300, 200, 80, 70, 60, 50, 40, 20]\n"
          ]
        }
      ],
      "source": [
        "# Q1 Create a List L that is defined as= [10, 20, 30, 40, 50, 60, 70, 80].\n",
        "L=[10, 20, 30, 40, 50, 60, 70, 80]\n",
        "print(\"Initial list L=\", L)\n",
        "\n",
        "# i. WAP to add 200 and 300 to L.\n",
        "L.append(200)\n",
        "L.append(300)\n",
        "print(\"1. L=\", L)\n",
        "\n",
        "# ii. WAP to remove 10 and 30 from L.\n",
        "L.remove(10)\n",
        "L.remove(30)\n",
        "print(\"2. L=\", L)\n",
        "\n",
        "# iii. WAP to sort L in ascending order.\n",
        "L.sort()\n",
        "print('3. L=',L)\n",
        "\n",
        "# iv. WAP to sort L in descending order.\n",
        "L.sort(reverse=True)\n",
        "print('4. L=',L)"
      ]
    },
    {
      "cell_type": "code",
      "source": [
        "# 2. Create a tuple of marks scored as scores = (45, 89.5, 76, 45.4, 89, 92, 58, 45) and\n",
        "# perform the following operations using tuple functions:\n",
        "scores = (45, 89.5, 76, 45.4, 89, 92, 58, 45)\n",
        "print(\"scores =\",scores)\n",
        "\n",
        "# i. Identify the highest score and its index in the tuple.\n",
        "highest_score=max(scores)\n",
        "index1=scores.index(highest_score)\n",
        "print(\"highest score =\",highest_score ,\" index is \",index1)\n",
        "\n",
        "# ii. Find the lowest score and count how many times it appears.\n",
        "lowest_score=min(scores)\n",
        "count=scores.count(lowest_score)\n",
        "print(\"lowest score =\",lowest_score ,\" count is \",count)\n",
        "\n",
        "# iii. Reverse the tuple and return it as a list.\n",
        "scores=scores[::-1]\n",
        "score_list=list(scores)\n",
        "print(score_list)\n",
        "\n",
        "# iv. Check if a specific score ‘76’ (input by the user) is present in the tuple and print its first occurrence index, or a message saying it’s not present.int()\n",
        "s=float(input(\"enter score: \"))\n",
        "if s in scores:\n",
        "  print(\"element found at index \",scores.index(s))\n",
        "else :\n",
        "  print(\"its not present\")"
      ],
      "metadata": {
        "colab": {
          "base_uri": "https://localhost:8080/"
        },
        "id": "IC9LUcAgLUjj",
        "outputId": "826274ad-c8f7-49ee-a350-5193496369cc"
      },
      "execution_count": 2,
      "outputs": [
        {
          "output_type": "stream",
          "name": "stdout",
          "text": [
            "scores = (45, 89.5, 76, 45.4, 89, 92, 58, 45)\n",
            "highest score = 92  index is  5\n",
            "lowest score = 45  count is  2\n",
            "[45, 58, 92, 89, 45.4, 76, 89.5, 45]\n",
            "enter score: 76\n",
            "element found at index  5\n"
          ]
        }
      ]
    },
    {
      "cell_type": "code",
      "source": [
        "# 3. WAP to create a list of 100 random numbers between 100 and 900. Count and print the:\n",
        "import random as random\n",
        "\n",
        "def is_prime(num):\n",
        "  if num<=1:\n",
        "    return False\n",
        "  for i in range(2, int(num**0.5) + 1):\n",
        "        if num % i == 0:\n",
        "            return False\n",
        "  return True\n",
        "\n",
        "random_nums=[]\n",
        "\n",
        "for i in range(100):\n",
        "  random_nums.append(random.randint(100, 900))\n",
        "\n",
        "print(\"list =\",random_nums)\n",
        "\n",
        "odd_nums=[]\n",
        "even_nums=[]\n",
        "prime_nums=[]\n",
        "\n",
        "for i in random_nums:\n",
        "  if i%2==0:\n",
        "    even_nums.append(i)\n",
        "  else :\n",
        "    odd_nums.append(i)\n",
        "\n",
        "  if is_prime(i):\n",
        "    prime_nums.append(i)\n",
        "\n",
        "\n",
        "\n",
        "# i. All odd numbers\n",
        "print(\"Odd nums : \",odd_nums)\n",
        "# ii. All even numbers\n",
        "print(\"Even nums : \",even_nums)\n",
        "# iii. All prime numbers\n",
        "print(\"Prime nums : \",prime_nums)"
      ],
      "metadata": {
        "colab": {
          "base_uri": "https://localhost:8080/"
        },
        "id": "wq9bRfhfOTem",
        "outputId": "15bca8b4-c725-4e12-8940-45f0fe97306e"
      },
      "execution_count": 3,
      "outputs": [
        {
          "output_type": "stream",
          "name": "stdout",
          "text": [
            "list = [175, 381, 149, 859, 842, 882, 718, 139, 738, 703, 508, 644, 172, 313, 227, 112, 561, 415, 167, 118, 259, 768, 856, 859, 607, 420, 646, 620, 424, 760, 179, 613, 201, 813, 857, 353, 723, 821, 571, 242, 330, 878, 640, 867, 850, 239, 313, 456, 106, 661, 467, 678, 436, 435, 141, 820, 321, 774, 261, 538, 561, 469, 862, 620, 512, 403, 674, 349, 160, 182, 414, 429, 223, 101, 620, 613, 293, 421, 889, 339, 418, 239, 615, 751, 314, 304, 464, 830, 770, 421, 190, 690, 890, 338, 232, 484, 886, 733, 238, 498]\n",
            "Odd nums :  [175, 381, 149, 859, 139, 703, 313, 227, 561, 415, 167, 259, 859, 607, 179, 613, 201, 813, 857, 353, 723, 821, 571, 867, 239, 313, 661, 467, 435, 141, 321, 261, 561, 469, 403, 349, 429, 223, 101, 613, 293, 421, 889, 339, 239, 615, 751, 421, 733]\n",
            "Even nums :  [842, 882, 718, 738, 508, 644, 172, 112, 118, 768, 856, 420, 646, 620, 424, 760, 242, 330, 878, 640, 850, 456, 106, 678, 436, 820, 774, 538, 862, 620, 512, 674, 160, 182, 414, 620, 418, 314, 304, 464, 830, 770, 190, 690, 890, 338, 232, 484, 886, 238, 498]\n",
            "Prime nums :  [149, 859, 139, 313, 227, 167, 859, 607, 179, 613, 857, 353, 821, 571, 239, 313, 661, 467, 349, 223, 101, 613, 293, 421, 239, 751, 421, 733]\n"
          ]
        }
      ]
    },
    {
      "cell_type": "code",
      "source": [
        "# 4. Consider the following two sets, A and B, representing scores of two teams in multiple matches. A = {34, 56, 78, 90} and B = {78, 45, 90, 23}\n",
        "# WAP to perform the following operations using set functions:\n",
        "A = {34, 56, 78, 90}\n",
        "B = {78, 45, 90, 23}\n",
        "\n",
        "# i. Find the unique scores achieved by both teams (union of sets).\n",
        "unique_scores=A.union(B)\n",
        "print(\"unique score : \",unique_scores)\n",
        "# ii. Identify the scores that are common to both teams (intersection of sets).\n",
        "common_scores=A.intersection(B)\n",
        "print(\"common scores : \",common_scores)\n",
        "\n",
        "# iii. Find the scores that are exclusive to each team (symmetric difference).\n",
        "exclusive_scores=A.symmetric_difference(B)\n",
        "print(\"symmetric difference : \",exclusive_scores)\n",
        "\n",
        "# iv. Check if the scores of team A are a subset of team B, and if team B's scores are a superset of team A.\n",
        "print(\"is A subset of B \",A.issubset(B))\n",
        "print(\"is B a superset of A \",B.issuperset(A))\n",
        "\n",
        "# v. Remove a specific score X (input by the user) from set A if it exists. If not, print a message saying it is not present.\n",
        "x=int(input(\"enter score to remove\"))\n",
        "if x in A:\n",
        "  A.remove(x)\n",
        "  print(A)\n",
        "else :\n",
        "  print(\"its not present\")"
      ],
      "metadata": {
        "colab": {
          "base_uri": "https://localhost:8080/"
        },
        "id": "X_72pgMOQ8dM",
        "outputId": "806651e3-9ca7-47b5-9fd4-59e19fb7d7ef"
      },
      "execution_count": 4,
      "outputs": [
        {
          "output_type": "stream",
          "name": "stdout",
          "text": [
            "unique score :  {34, 45, 78, 23, 56, 90}\n",
            "common scores :  {90, 78}\n",
            "symmetric difference :  {34, 45, 23, 56}\n",
            "is A subset of B  False\n",
            "is B a superset of A  False\n",
            "enter score to remove90\n",
            "{56, 34, 78}\n"
          ]
        }
      ]
    },
    {
      "cell_type": "code",
      "source": [
        "#5. Write a program to rename a key city to a locaƟon in the following dictionary.\n",
        "dict1={\n",
        "    \"name\":\"Kelly\",\n",
        "    \"age\":25,\n",
        "    \"salary\":8000,\n",
        "    \"city\":\"New York\"\n",
        "}\n",
        "\n",
        "if \"city\" in dict1:\n",
        "  dict1[\"location\"] = dict1.pop(\"city\")\n",
        "\n",
        "print(dict1)"
      ],
      "metadata": {
        "colab": {
          "base_uri": "https://localhost:8080/"
        },
        "id": "JvJ9pzmTWAKp",
        "outputId": "581af289-3bc2-4bbd-f507-edde08a0f506"
      },
      "execution_count": 5,
      "outputs": [
        {
          "output_type": "stream",
          "name": "stdout",
          "text": [
            "{'name': 'Kelly', 'age': 25, 'salary': 8000, 'location': 'New York'}\n"
          ]
        }
      ]
    },
    {
      "cell_type": "code",
      "source": [],
      "metadata": {
        "id": "IyPezPKhWWs-"
      },
      "execution_count": 5,
      "outputs": []
    }
  ]
}