{
  "nbformat": 4,
  "nbformat_minor": 0,
  "metadata": {
    "colab": {
      "provenance": []
    },
    "kernelspec": {
      "name": "python3",
      "display_name": "Python 3"
    },
    "language_info": {
      "name": "python"
    }
  },
  "cells": [
    {
      "cell_type": "markdown",
      "source": [
        "Assignment 4"
      ],
      "metadata": {
        "id": "h_d_u0k0A0wh"
      }
    },
    {
      "cell_type": "code",
      "execution_count": 1,
      "metadata": {
        "id": "GtSmq12XAzRc"
      },
      "outputs": [],
      "source": [
        "import numpy as np"
      ]
    },
    {
      "cell_type": "code",
      "source": [
        "# Q.1 Write a program to create a NumPy 1D-array with 5 elements and perform basic\n",
        "# operations like:\n",
        "array1=np.array([1,2,3,4,5])\n",
        "\n",
        "# a) Addition of 2 in all the element\n",
        "print(array1+2)\n",
        "\n",
        "# b) Multiply 3 with all the elements\n",
        "print(array1*3)\n",
        "\n",
        "# c) Divide every element by 2\n",
        "print(array1/2)"
      ],
      "metadata": {
        "colab": {
          "base_uri": "https://localhost:8080/"
        },
        "id": "i4w28i8JBHLl",
        "outputId": "886d0ed0-5445-44bb-f8b0-190964f9cedc"
      },
      "execution_count": 2,
      "outputs": [
        {
          "output_type": "stream",
          "name": "stdout",
          "text": [
            "[3 4 5 6 7]\n",
            "[ 3  6  9 12 15]\n",
            "[0.5 1.  1.5 2.  2.5]\n"
          ]
        }
      ]
    },
    {
      "cell_type": "code",
      "source": [
        "# Q.2 Questions on Basic NumPy Array:\n",
        "array2=np.array([1,2,3,6,4,5])\n",
        "\n",
        "# a) Reverse the NumPy array: arr = np.array([1, 2, 3, 6, 4, 5])\n",
        "array2=array2[::-1]\n",
        "print(f\"reversed array : {array2}\" )\n",
        "# b) Find the most frequent value and their indice(s) in the following arrays:\n",
        "from statistics import mode\n",
        "# i. x = np.array([1,2,3,4,5,1,2,1,1,1])\n",
        "x = np.array([1,2,3,4,5,1,2,1,1,1])\n",
        "mode1=mode(x)\n",
        "x1=np.where(x==mode1)[0]\n",
        "print(f\"the mode of {x} is {mode1} and indices : {x1}\")\n",
        "\n",
        "# ii. y = np.array([1, 1, 1, 2, 3, 4, 2, 4, 3, 3, ])\n",
        "y = np.array([1, 1, 1, 2, 3, 4, 2, 4, 3, 3, ])\n",
        "mode2=mode(y)\n",
        "y1=np.where(y==mode2)[0]\n",
        "print(f\"the mode of {y} is {mode2} and indices : {y1}\")"
      ],
      "metadata": {
        "colab": {
          "base_uri": "https://localhost:8080/"
        },
        "id": "sev3mRoPBQwS",
        "outputId": "be3bb0b6-0ea0-4fd0-d735-f88e4fd6b6f8"
      },
      "execution_count": 3,
      "outputs": [
        {
          "output_type": "stream",
          "name": "stdout",
          "text": [
            "reversed array : [5 4 6 3 2 1]\n",
            "the mode of [1 2 3 4 5 1 2 1 1 1] is 1 and indices : [0 5 7 8 9]\n",
            "the mode of [1 1 1 2 3 4 2 4 3 3] is 1 and indices : [0 1 2]\n"
          ]
        }
      ]
    },
    {
      "cell_type": "code",
      "source": [
        "# Q.3 For the given 2-D array arr=np.array([10, 20, 30], [40, 50, 60], [70, 80, 90]), access\n",
        "# elements using row and column indices as follows:\n",
        "array3=np.array([[10,20,30],[40,50,60],[70,80,90]])\n",
        "# a) Access 1st row, 2nd column\n",
        "print(array3[0,1])\n",
        "# b) Access 3rd row, 1st column\n",
        "print(array3[2,0])"
      ],
      "metadata": {
        "colab": {
          "base_uri": "https://localhost:8080/"
        },
        "id": "JIwI1y2VDfxS",
        "outputId": "6d33d4bf-eef6-445f-8800-bda51bfd3216"
      },
      "execution_count": 4,
      "outputs": [
        {
          "output_type": "stream",
          "name": "stdout",
          "text": [
            "20\n",
            "70\n"
          ]
        }
      ]
    },
    {
      "cell_type": "code",
      "source": [
        "# Q.4 Write program to create an 1-D NumPy array named <<Your Name>> with evenly spaced 25 numbers from 10 to 100 using linspace(). Print the dimensions of the array,\n",
        "# shape, total elements, the data type of each element and total number of bytes consumed by the array. Find the transpose of this array using reshape() attribute. Can we do the same\n",
        "# with T attribute?\n",
        "\n",
        "samiksha=np.linspace(10,100,25)\n",
        "print(f\"array is : {samiksha}\\n\")\n",
        "print(f\"dimension : {samiksha.ndim}\")\n",
        "print(f\"shape : {samiksha.shape}\")\n",
        "print(f\"size : {samiksha.size}\")\n",
        "print(f\"dtype : {samiksha.dtype}\")\n",
        "print(f\"nbytes : {samiksha.nbytes}\\n\")\n",
        "\n",
        "t1=samiksha.reshape(25,1)\n",
        "print(f\"transpose : {t1}\\n\")\n",
        "\n",
        "t2=samiksha.T\n",
        "print(t2)"
      ],
      "metadata": {
        "colab": {
          "base_uri": "https://localhost:8080/"
        },
        "id": "3xvavq6yFH6B",
        "outputId": "064ad3c9-32f5-4071-bb07-979d6463cec2"
      },
      "execution_count": 5,
      "outputs": [
        {
          "output_type": "stream",
          "name": "stdout",
          "text": [
            "array is : [ 10.    13.75  17.5   21.25  25.    28.75  32.5   36.25  40.    43.75\n",
            "  47.5   51.25  55.    58.75  62.5   66.25  70.    73.75  77.5   81.25\n",
            "  85.    88.75  92.5   96.25 100.  ]\n",
            "\n",
            "dimension : 1\n",
            "shape : (25,)\n",
            "size : 25\n",
            "dtype : float64\n",
            "nbytes : 200\n",
            "\n",
            "transpose : [[ 10.  ]\n",
            " [ 13.75]\n",
            " [ 17.5 ]\n",
            " [ 21.25]\n",
            " [ 25.  ]\n",
            " [ 28.75]\n",
            " [ 32.5 ]\n",
            " [ 36.25]\n",
            " [ 40.  ]\n",
            " [ 43.75]\n",
            " [ 47.5 ]\n",
            " [ 51.25]\n",
            " [ 55.  ]\n",
            " [ 58.75]\n",
            " [ 62.5 ]\n",
            " [ 66.25]\n",
            " [ 70.  ]\n",
            " [ 73.75]\n",
            " [ 77.5 ]\n",
            " [ 81.25]\n",
            " [ 85.  ]\n",
            " [ 88.75]\n",
            " [ 92.5 ]\n",
            " [ 96.25]\n",
            " [100.  ]]\n",
            "\n",
            "[ 10.    13.75  17.5   21.25  25.    28.75  32.5   36.25  40.    43.75\n",
            "  47.5   51.25  55.    58.75  62.5   66.25  70.    73.75  77.5   81.25\n",
            "  85.    88.75  92.5   96.25 100.  ]\n"
          ]
        }
      ]
    },
    {
      "cell_type": "code",
      "source": [
        "# Q5. Create a 2-D Array of three rows and four columns, named ucs420_<your_name>> with following values – 10, 20, 30, 40, 50, 60, 70, 80, 90, 15, 20, 35. Compute the mean,\n",
        "# median, max, min, unique elements. Reshape the array to four rows and three columns and name it as reshaped_ ucs420_<your_name>>. Resize the array to two rows and three\n",
        "# columns and name it as resized_ ucs420_<your_name>>.\n",
        "ucs420=np.array([10,20,30,40,50,60,70,80,90,15,20,35])\n",
        "ucs420=ucs420.reshape(3,4)\n",
        "print(f\"array is : \\n{ucs420}\\n\")\n",
        "\n",
        "mean=np.mean(ucs420)\n",
        "median=np.median(ucs420)\n",
        "max=np.max(ucs420)\n",
        "min=np.min(ucs420)\n",
        "uniqueElems=np.unique(ucs420)\n",
        "\n",
        "print(f\"mean : {mean}\")\n",
        "print(f\"median : {median}\")\n",
        "print(f\"max : {max}\")\n",
        "print(f\"min : {min}\")\n",
        "print(f\"unique : {uniqueElems}\\n\")\n",
        "\n",
        "arr=ucs420.reshape(4,3)\n",
        "print(arr,\"\\n\")\n",
        "\n",
        "arr1=np.resize(ucs420, (2, 3))\n",
        "print(arr1)"
      ],
      "metadata": {
        "colab": {
          "base_uri": "https://localhost:8080/"
        },
        "id": "B8k6HEmyFZZ0",
        "outputId": "20f58bf9-d691-404a-dcbf-f5e4de4e9977"
      },
      "execution_count": 6,
      "outputs": [
        {
          "output_type": "stream",
          "name": "stdout",
          "text": [
            "array is : \n",
            "[[10 20 30 40]\n",
            " [50 60 70 80]\n",
            " [90 15 20 35]]\n",
            "\n",
            "mean : 43.333333333333336\n",
            "median : 37.5\n",
            "max : 90\n",
            "min : 10\n",
            "unique : [10 15 20 30 35 40 50 60 70 80 90]\n",
            "\n",
            "[[10 20 30]\n",
            " [40 50 60]\n",
            " [70 80 90]\n",
            " [15 20 35]] \n",
            "\n",
            "[[10 20 30]\n",
            " [40 50 60]]\n"
          ]
        }
      ]
    }
  ]
}