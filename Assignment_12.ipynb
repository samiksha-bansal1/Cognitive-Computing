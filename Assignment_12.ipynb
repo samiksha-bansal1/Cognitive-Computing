{
  "nbformat": 4,
  "nbformat_minor": 0,
  "metadata": {
    "colab": {
      "provenance": []
    },
    "kernelspec": {
      "name": "python3",
      "display_name": "Python 3"
    },
    "language_info": {
      "name": "python"
    }
  },
  "cells": [
    {
      "cell_type": "markdown",
      "source": [
        "Assignment 12"
      ],
      "metadata": {
        "id": "pJ0l-GTYOe4G"
      }
    },
    {
      "cell_type": "markdown",
      "source": [
        "1. Deploy a Cognitive Systems or Chatbot for healthcare applications."
      ],
      "metadata": {
        "id": "mBEvC7UGOs5e"
      }
    },
    {
      "cell_type": "code",
      "source": [
        "import nltk"
      ],
      "metadata": {
        "id": "38g_TkFBL63H"
      },
      "execution_count": 3,
      "outputs": []
    },
    {
      "cell_type": "code",
      "source": [
        "from chatterbot import ChatBot\n",
        "print(\"ChatterBot imported successfully!\")"
      ],
      "metadata": {
        "colab": {
          "base_uri": "https://localhost:8080/"
        },
        "id": "Yc5gOhrQMKQw",
        "outputId": "767d221b-f016-4f55-cba2-ec8b2c02bcee"
      },
      "execution_count": 4,
      "outputs": [
        {
          "output_type": "stream",
          "name": "stdout",
          "text": [
            "ChatterBot imported successfully!\n"
          ]
        }
      ]
    },
    {
      "cell_type": "code",
      "source": [
        "from chatterbot.trainers import ListTrainer"
      ],
      "metadata": {
        "id": "eOusNLX1Mf3E"
      },
      "execution_count": 5,
      "outputs": []
    },
    {
      "cell_type": "code",
      "source": [
        "HealthBot = ChatBot(\n",
        "    name='HealthBot',\n",
        "    read_only=True,\n",
        "    logic_adapters=[\n",
        "        'chatterbot.logic.BestMatch',\n",
        "        'chatterbot.logic.MathematicalEvaluation'\n",
        "    ]\n",
        ")"
      ],
      "metadata": {
        "colab": {
          "base_uri": "https://localhost:8080/"
        },
        "id": "2R6mrpwfMqIu",
        "outputId": "31a71eb9-aa01-4c6a-937c-1a7b61bc18c8"
      },
      "execution_count": 6,
      "outputs": [
        {
          "output_type": "stream",
          "name": "stderr",
          "text": [
            "[nltk_data] Downloading package averaged_perceptron_tagger to\n",
            "[nltk_data]     /root/nltk_data...\n",
            "[nltk_data]   Package averaged_perceptron_tagger is already up-to-\n",
            "[nltk_data]       date!\n",
            "[nltk_data] Downloading package punkt to /root/nltk_data...\n",
            "[nltk_data]   Package punkt is already up-to-date!\n",
            "[nltk_data] Downloading package stopwords to /root/nltk_data...\n",
            "[nltk_data]   Package stopwords is already up-to-date!\n"
          ]
        }
      ]
    },
    {
      "cell_type": "code",
      "source": [
        "trainer = ListTrainer(HealthBot)\n",
        "conversations = [\n",
        "    'Hi',\n",
        "    'Hello! I am HealthBot. How can I assist you today?',\n",
        "    'Hello',\n",
        "    'Hi! Do you have a health-related question?',\n",
        "    'I have a headache',\n",
        "    'You should rest, stay hydrated, and take a mild pain reliever if needed.',\n",
        "    'What should I do if I have a fever?',\n",
        "    'Drink plenty of fluids and rest. If the fever persists, please consult a doctor.',\n",
        "    'I feel dizzy',\n",
        "    'Sit down, breathe deeply, and drink water. If it continues, seek medical help.',\n",
        "    'What should I eat for a cold?',\n",
        "    'Warm fluids, soups, citrus fruits, and light meals help during a cold.',\n",
        "    'How to stay healthy?',\n",
        "    'Eat balanced meals, exercise regularly, stay hydrated, and get enough sleep.',\n",
        "    'What should I do in case of a cut?',\n",
        "    'Clean the wound with water, apply antiseptic, and cover it with a clean bandage.',\n",
        "    'How much water should I drink daily?',\n",
        "    'Generally, 2 to 3 liters per day is recommended, but it varies based on your activity.',\n",
        "    'Thank you',\n",
        "    'You’re welcome! Take care.',\n",
        "    'Bye',\n",
        "    'Goodbye! Stay healthy.'\n",
        "]"
      ],
      "metadata": {
        "id": "Z7FAmLrKM6qF"
      },
      "execution_count": 7,
      "outputs": []
    },
    {
      "cell_type": "code",
      "source": [
        "trainer.train(conversations)"
      ],
      "metadata": {
        "colab": {
          "base_uri": "https://localhost:8080/"
        },
        "id": "dm7tjCP9NMrh",
        "outputId": "783b30f5-536c-4ca0-cf16-2eb4d5fed374"
      },
      "execution_count": 8,
      "outputs": [
        {
          "output_type": "stream",
          "name": "stdout",
          "text": [
            "List Trainer: [####################] 100%\n"
          ]
        }
      ]
    },
    {
      "cell_type": "code",
      "source": [
        "print(\"Ask something to HealthBot (type 'exit' to end):\\n\")\n",
        "while True:\n",
        "    user_input = input(\"You: \")\n",
        "    if user_input.lower() == 'exit':\n",
        "        print(\"Bot: Bye! Stay healthy and happy.\")\n",
        "        break\n",
        "    response = HealthBot.get_response(user_input)\n",
        "    print(f\"Bot: {response}\")"
      ],
      "metadata": {
        "colab": {
          "base_uri": "https://localhost:8080/"
        },
        "id": "tLG4VFNyNRo_",
        "outputId": "948aac69-736c-4886-b98f-818b4681dfac"
      },
      "execution_count": 10,
      "outputs": [
        {
          "output_type": "stream",
          "name": "stdout",
          "text": [
            "Ask something to HealthBot (type 'exit' to end):\n",
            "\n",
            "You: hi\n",
            "Bot: Hello! I am HealthBot. How can I assist you today?\n",
            "You: What should I eat when I have a cold?\n",
            "Bot: Warm fluids, soups, citrus fruits, and light meals help during a cold.\n",
            "You: What's the ideal amount of water to drink daily?\n",
            "Bot: Generally, 2 to 3 liters per day is recommended, but it varies based on your activity.\n",
            "You: thank you\n",
            "Bot: You’re welcome! Take care.\n",
            "You: bye\n",
            "Bot: Goodbye! Stay healthy.\n",
            "You: exit\n",
            "Bot: Bye! Stay healthy and happy.\n"
          ]
        }
      ]
    }
  ]
}